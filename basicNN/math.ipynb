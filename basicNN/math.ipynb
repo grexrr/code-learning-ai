{
 "cells": [
  {
   "cell_type": "markdown",
   "metadata": {},
   "source": [
    "Suppose: $$f(x,y,z)=(x + y)z$$\n",
    "\n",
    "We can have: $$f(x) = zx$$ $$g(x) = x + y$$\n",
    "\n",
    "Therefore: $$\\frac{\\partial{f}}{\\partial{g}} = z ~,~ \\frac{\\partial{f}}{\\partial{z}} = x + y ~,~ \\frac{\\partial{g}}{\\partial{x}} = \\frac{\\partial{g}}{\\partial{y}} = 1$$"
   ]
  },
  {
   "cell_type": "code",
   "execution_count": 6,
   "metadata": {},
   "outputs": [
    {
     "name": "stdout",
     "output_type": "stream",
     "text": [
      "[[ 3  2  3]\n",
      " [ 2  1  2]\n",
      " [ 1  3  1]\n",
      " [-1  2 -2]]\n",
      "[[  0  16  -9]\n",
      " [-24   9 -30]]\n"
     ]
    }
   ],
   "source": [
    "import numpy as np\n",
    "\n",
    "W = np.array([\n",
    "    [3, 2, 1, -1],\n",
    "    [2, 1, 3, 2],\n",
    "    [3, 2, 1, -2]\n",
    "])\n",
    "\n",
    "dl_dy = np.array([\n",
    "    [2, 3, -3, 9],\n",
    "    [-8, 1, 4, 6]\n",
    "])\n",
    "\n",
    "W_transpose = W.transpose()\n",
    "print(W_transpose)\n",
    "print(dl_dy.dot(W_transpose))"
   ]
  }
 ],
 "metadata": {
  "language_info": {
   "name": "python"
  }
 },
 "nbformat": 4,
 "nbformat_minor": 2
}
