{
  "cells": [
    {
      "cell_type": "markdown",
      "metadata": {
        "id": "artobcnx1Ahd"
      },
      "source": []
    },
    {
      "cell_type": "markdown",
      "metadata": {
        "id": "nhuGeILb1COU"
      },
      "source": [
        "# New Section"
      ]
    },
    {
      "cell_type": "code",
      "execution_count": null,
      "metadata": {
        "id": "bUNDJEMqn5Eb"
      },
      "outputs": [],
      "source": []
    },
    {
      "cell_type": "code",
      "execution_count": null,
      "metadata": {
        "id": "mweKpK7on54R"
      },
      "outputs": [],
      "source": [
        "from collections import defaultdict\n",
        "\n",
        "def map_index(vertex, edges, current_distances):\n",
        "    \"\"\"Mapper function that processes vertices and their distances\"\"\"\n",
        "    emitted_data = []\n",
        "\n",
        "    # Emit current known distance\n",
        "    emitted_data.append((vertex, (vertex, current_distances[vertex])))\n",
        "\n",
        "    # Emit potential new distances through this vertex\n",
        "    for neighbor, weight in edges.items():\n",
        "        if current_distances[vertex] != float('inf'):\n",
        "            new_distance = current_distances[vertex] + weight\n",
        "            emitted_data.append((neighbor, (vertex, new_distance)))\n",
        "\n",
        "    return emitted_data\n",
        "\n",
        "def reduce_index(key, values):\n",
        "    \"\"\"Reducer function that finds minimum distances to each vertex\"\"\"\n",
        "    min_distance = float('inf')\n",
        "    source_vertex = None\n",
        "\n",
        "    for src, dist in values:\n",
        "        if dist < min_distance:\n",
        "            min_distance = dist\n",
        "            source_vertex = src\n",
        "\n",
        "    return (key, (source_vertex, min_distance))\n"
      ]
    },
    {
      "cell_type": "code",
      "execution_count": null,
      "metadata": {
        "id": "xqCrc9ABvtFM"
      },
      "outputs": [],
      "source": [
        "def single_mapreduce_pass(graph, current_distances):\n",
        "    \"\"\"Performs a single MapReduce pass over the graph\"\"\"\n",
        "    # MAP phase\n",
        "    mapped_data = []\n",
        "    for vertex, edges in graph.items():\n",
        "        mapped_data.extend(map_index(vertex, edges, current_distances))\n",
        "\n",
        "    # Group data by key for reduce phase\n",
        "    grouped_data = defaultdict(list)\n",
        "    for k, v in mapped_data:\n",
        "        grouped_data[k].append(v)\n",
        "\n",
        "    # REDUCE phase\n",
        "    new_distances = {}\n",
        "    for key, values in grouped_data.items():\n",
        "        vertex, (source, distance) = reduce_index(key, values)\n",
        "        new_distances[vertex] = distance\n",
        "\n",
        "    return new_distances"
      ]
    },
    {
      "cell_type": "code",
      "execution_count": null,
      "metadata": {
        "id": "Lv40ymGxvuK6"
      },
      "outputs": [],
      "source": [
        "def iterative_mapreduce_dijkstra(graph, source, max_iterations=None):\n",
        "    \"\"\"Implementation of Dijkstra's algorithm using iterative MapReduce\"\"\"\n",
        "    if max_iterations is None:\n",
        "        max_iterations = len(graph) - 1  # Maximum path length in the graph\n",
        "\n",
        "    # Initialize distances\n",
        "    distances = {v: float('inf') for v in graph}\n",
        "    distances[source] = 0\n",
        "\n",
        "    # Keep track of distance changes between iterations\n",
        "    iteration = 0\n",
        "    changed = True\n",
        "\n",
        "    while changed and iteration < max_iterations:\n",
        "        old_distances = distances.copy()\n",
        "        distances = single_mapreduce_pass(graph, distances)\n",
        "\n",
        "        # Check if any distances changed in this iteration\n",
        "        changed = any(old_distances[v] != distances[v] for v in distances)\n",
        "        iteration += 1\n",
        "\n",
        "        print(f\"\\nIteration {iteration}:\")\n",
        "        for vertex, dist in sorted(distances.items  ()):\n",
        "            print(f\"{vertex}: {dist}\")\n",
        "\n",
        "    return distances, iteration"
      ]
    },
    {
      "cell_type": "code",
      "execution_count": null,
      "metadata": {
        "colab": {
          "base_uri": "https://localhost:8080/"
        },
        "id": "Cl67wa6IvzEK",
        "outputId": "aed6bb71-0ee4-4ff5-9aa7-95b6c9f2a48b"
      },
      "outputs": [
        {
          "name": "stdout",
          "output_type": "stream",
          "text": [
            "\n",
            "Iteration 1:\n",
            "A: 0\n",
            "B: 4\n",
            "C: 2\n",
            "D: inf\n",
            "E: inf\n",
            "\n",
            "Iteration 2:\n",
            "A: 0\n",
            "B: 3\n",
            "C: 2\n",
            "D: 9\n",
            "E: 12\n",
            "\n",
            "Iteration 3:\n",
            "A: 0\n",
            "B: 3\n",
            "C: 2\n",
            "D: 8\n",
            "E: 11\n",
            "\n",
            "Iteration 4:\n",
            "A: 0\n",
            "B: 3\n",
            "C: 2\n",
            "D: 8\n",
            "E: 10\n",
            "\n",
            "Final shortest paths from vertex A after 4 iterations:\n",
            "A: 0\n",
            "B: 3\n",
            "C: 2\n",
            "D: 8\n",
            "E: 10\n"
          ]
        }
      ],
      "source": [
        "def main():\n",
        "    # Example graph represented as adjacency list with weights\n",
        "    graph = {\n",
        "        'A': {'B': 4, 'C': 2},\n",
        "        'B': {'A': 4, 'C': 1, 'D': 5},\n",
        "        'C': {'A': 2, 'B': 1, 'D': 8, 'E': 10},\n",
        "        'D': {'B': 5, 'C': 8, 'E': 2},\n",
        "        'E': {'C': 10, 'D': 2}\n",
        "    }\n",
        "\n",
        "    source = 'A'\n",
        "    shortest_paths, num_iterations = iterative_mapreduce_dijkstra(graph, source)\n",
        "\n",
        "    print(f\"\\nFinal shortest paths from vertex {source} after {num_iterations} iterations:\")\n",
        "    for vertex, distance in sorted(shortest_paths.items()):\n",
        "        print(f\"{vertex}: {distance}\")\n",
        "\n",
        "if __name__ == \"__main__\":\n",
        "    main()"
      ]
    }
  ],
  "metadata": {
    "colab": {
      "provenance": []
    },
    "kernelspec": {
      "display_name": "Python 3",
      "name": "python3"
    },
    "language_info": {
      "name": "python"
    }
  },
  "nbformat": 4,
  "nbformat_minor": 0
}
