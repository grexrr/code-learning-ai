{
 "cells": [
  {
   "cell_type": "code",
   "execution_count": 1,
   "metadata": {},
   "outputs": [],
   "source": [
    "import numpy as np"
   ]
  },
  {
   "cell_type": "markdown",
   "metadata": {},
   "source": [
    "$$y=Ax$$"
   ]
  },
  {
   "cell_type": "code",
   "execution_count": 2,
   "metadata": {},
   "outputs": [
    {
     "name": "stdout",
     "output_type": "stream",
     "text": [
      "[[14]]\n"
     ]
    }
   ],
   "source": [
    "A = np.array([[1, 3]])  \n",
    "x = np.array([[2], \n",
    "              [4]])     \n",
    "y = A.dot(x)           \n",
    "print(y)"
   ]
  },
  {
   "cell_type": "code",
   "execution_count": 3,
   "metadata": {},
   "outputs": [
    {
     "name": "stdout",
     "output_type": "stream",
     "text": [
      "[[-5]]\n",
      "[[  2   8  -6   1   0]\n",
      " [  0   0   0   0   0]\n",
      " [  4  16 -12   2   0]\n",
      " [ 10  40 -30   5   0]\n",
      " [ -4 -16  12  -2   0]]\n"
     ]
    }
   ],
   "source": [
    "v = np.array([[1], \n",
    "              [0], \n",
    "              [2], \n",
    "              [5], \n",
    "              [-2]])\n",
    "\n",
    "\n",
    "w = np.array([[2], \n",
    "              [8], \n",
    "              [-6], \n",
    "              [1], \n",
    "              [0]])\n",
    "\n",
    "print(v.T.dot(w))\n",
    "print(v.dot(w.T))"
   ]
  },
  {
   "cell_type": "code",
   "execution_count": 4,
   "metadata": {},
   "outputs": [
    {
     "name": "stdout",
     "output_type": "stream",
     "text": [
      "-5\n"
     ]
    }
   ],
   "source": [
    "v = np.array([1, 0, 2, 5, -2])\n",
    "w = np.array([2, 8, -6, 1, 0])\n",
    "\n",
    "print(np.dot(v, w))\n",
    "\n",
    "a = np.dot(v.T, w)"
   ]
  },
  {
   "cell_type": "code",
   "execution_count": 5,
   "metadata": {},
   "outputs": [
    {
     "name": "stdout",
     "output_type": "stream",
     "text": [
      "-5\n"
     ]
    }
   ],
   "source": [
    "# manual\n",
    "res = 0\n",
    "for i in range(len(v)):\n",
    "    res += (v[i] * w[i])\n",
    "print(res)"
   ]
  },
  {
   "cell_type": "code",
   "execution_count": 58,
   "metadata": {},
   "outputs": [
    {
     "data": {
      "text/plain": [
       "array([[  2,   8,  -6,   1,   0],\n",
       "       [  0,   0,   0,   0,   0],\n",
       "       [  4,  16, -12,   2,   0],\n",
       "       [ 10,  40, -30,   5,   0],\n",
       "       [ -4, -16,  12,  -2,   0]])"
      ]
     },
     "execution_count": 58,
     "metadata": {},
     "output_type": "execute_result"
    }
   ],
   "source": [
    "# 2d matrix\n",
    "v = np.array([[1, 0, 2, 5, -2]])\n",
    "w = np.array([[2, 8, -6, 1, 0]])\n",
    "\n",
    "np.dot(v.T, w)"
   ]
  }
 ],
 "metadata": {
  "language_info": {
   "name": "python"
  }
 },
 "nbformat": 4,
 "nbformat_minor": 2
}
